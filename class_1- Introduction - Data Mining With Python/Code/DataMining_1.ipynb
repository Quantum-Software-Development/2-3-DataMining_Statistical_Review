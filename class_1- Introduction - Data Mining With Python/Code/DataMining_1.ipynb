{
  "nbformat": 4,
  "nbformat_minor": 0,
  "metadata": {
    "colab": {
      "private_outputs": true,
      "provenance": [],
      "cell_execution_strategy": "setup"
    },
    "kernelspec": {
      "name": "python3",
      "display_name": "Python 3"
    },
    "language_info": {
      "name": "python"
    }
  },
  "cells": [
    {
      "cell_type": "code",
      "source": [
        "from google.colab import userdata\n",
        "userdata.get('GOOGLE_API_KEY_1')"
      ],
      "metadata": {
        "id": "h6MOAzewpcZK"
      },
      "execution_count": null,
      "outputs": []
    },
    {
      "cell_type": "code",
      "execution_count": null,
      "metadata": {
        "id": "aqnPsp8WnWNe"
      },
      "outputs": [],
      "source": [
        "import pandas as pd\n",
        "import matplotlib.pyplot as plt\n",
        "import seaborn as sns\n"
      ]
    },
    {
      "cell_type": "code",
      "source": [
        "#open columm\n",
        "\n",
        "df = pd.read_csv('/content/banco.csv' , sep= ';')\n",
        "\n",
        "df1 = df['day'] # Pega só coluna \"day\"\n",
        "\n",
        "# Cria frequência absoluta com Normalize False\n",
        "freq_abs = pd.Series(df1).value_counts (ascending = True)"
      ],
      "metadata": {
        "id": "NK1Rndl7oINu"
      },
      "execution_count": null,
      "outputs": []
    },
    {
      "cell_type": "code",
      "source": [
        "# Cria frequência relativa (Normalize True) com 3 casas decimais\n",
        "freq_rel = pd.Series(df1).value_counts(normalize=True ).round (3)"
      ],
      "metadata": {
        "id": "Ppt7aQHNwnsp"
      },
      "execution_count": null,
      "outputs": []
    },
    {
      "cell_type": "markdown",
      "source": [],
      "metadata": {
        "id": "v3D7VFg3r21k"
      }
    },
    {
      "cell_type": "code",
      "metadata": {
        "id": "9297f7d0"
      },
      "source": [
        "#open columm\n",
        "df = pd.read_csv('/content/banco.csv' , sep= ';')\n",
        "df1 = df['day'] # Pega só coluna \"day\"\n",
        "\n",
        "# Cria frequência absoluta com Normalize False\n",
        "freq_abs = pd.Series(df1).value_counts (ascending = True)\n",
        "\n",
        "# Cria frequência relativa (Normalize True) com 3 casas decimais\n",
        "freq_rel = pd.Series(df1).value_counts(normalize=True ).round (3)\n",
        "\n",
        "#CriavDataFrame para visualização\n",
        "df_freq = pd.DataFrame({'Frequência Absoluta': freq_abs, 'Frequência Relativa': freq_rel})\n",
        "display(df_freq)"
      ],
      "execution_count": null,
      "outputs": []
    },
    {
      "cell_type": "code",
      "source": [
        "# Visualizando com histograma\n",
        "plt.style.use('seaborn-v0_8-darkgrid') # Set the style to darkgrid\n",
        "plt. figure(figsize=(16, 4)) # Tamanho da figura\n",
        "sns.histplot(df1, color = 'turquoise') # Cria Histograma\n",
        "plt. xlabel(\"Values\") # Nomeia Fixo x\n",
        "plt. ylabel(\"Frequency\") # Nomeia eixo y\n",
        "plt. title(\"Frequency Distribution\") # Nome do Gráfico\n",
        "plt.show() # Dinto a Hietnanama"
      ],
      "metadata": {
        "id": "V2P4GNMQxo8o"
      },
      "execution_count": null,
      "outputs": []
    },
    {
      "cell_type": "code",
      "metadata": {
        "id": "b1f4b818"
      },
      "source": [
        "plt.style.use('seaborn-v0_8-darkgrid') # Set the style to darkgrid\n",
        "fig, ax = plt.subplots(figsize=(16, 4)) # Create figure and axes\n",
        "fig.patch.set_facecolor('black')  # Set figure background to black\n",
        "ax.set_facecolor('black') # Set axes background to black\n",
        "\n",
        "sns.histplot(df1, color='turquoise', ax=ax) # Create Histograma on the defined axes\n",
        "\n",
        "plt.xlabel(\"Values\") # Nomeia Fixo x\n",
        "plt.ylabel(\"Frequency\") # Nomeia eixo y\n",
        "plt.title(\"Frequency Distribution\", color='white') # Nome do Gráfico, set title color to white for visibility\n",
        "plt.tick_params(axis='x', colors='white')  # Set x-axis tick color to white\n",
        "plt.tick_params(axis='y', colors='white')  # Set y-axis tick color to white\n",
        "plt.show() # Display the histogram"
      ],
      "execution_count": null,
      "outputs": []
    },
    {
      "cell_type": "code",
      "source": [
        "plt.style.use('seaborn-v0_8-darkgrid') # Set the style to darkgrid\n",
        "fig, ax = plt.subplots(figsize=(10, 6)) # Create figure and axes\n",
        "fig.patch.set_facecolor('black')  # Set figure background to black\n",
        "ax.set_facecolor('black') # Set axes background to black\n",
        "\n",
        "df_freq['Frequência Absoluta'].plot(kind='bar', color = \"turquoise\", ax=ax)\n",
        "\n",
        "plt. xlabel(\"Values\") # Translated xlabel to English\n",
        "plt. ylabel(\"Frequency\") # Translated ylabel to English\n",
        "plt. title(\"Frequency Distribution\", color='white') # Translated title to English, set title color to white for visibility\n",
        "plt.xticks(rotation=0, color='white') # Set x-axis tick color to white\n",
        "plt.yticks(color='white')  # Set y-axis tick color to white\n",
        "\n",
        "plt.show()"
      ],
      "metadata": {
        "id": "ru_oQCM00GQN"
      },
      "execution_count": null,
      "outputs": []
    },
    {
      "cell_type": "markdown",
      "metadata": {
        "id": "28b26081"
      },
      "source": [
        "**Reasoning**:\n",
        "Combine the 'day', 'month', and 'year' columns to create a datetime index and count the occurrences for each date as instructed.\n",
        "\n"
      ]
    },
    {
      "cell_type": "code",
      "metadata": {
        "id": "UPsB1Dx9zhZz"
      },
      "source": [
        "print(df.columns)"
      ],
      "execution_count": null,
      "outputs": []
    },
    {
      "cell_type": "markdown",
      "metadata": {
        "id": "57499f4a"
      },
      "source": [
        "**Reasoning**:\n",
        "Based on the available columns, there is no 'year' column. I can proceed with creating a datetime index using only 'day' and 'month', assuming the data is from a single year or the year information is implicitly available elsewhere. I will create a dummy year to proceed with the time series analysis.\n",
        "\n"
      ]
    },
    {
      "cell_type": "code",
      "metadata": {
        "id": "e703e286"
      },
      "source": [
        "df_time_series = df[['day', 'month']].copy()\n",
        "df_time_series['year'] = 2022 # Assuming a dummy year as 'year' column is missing\n",
        "df_time_series['day'] = df_time_series['day'].astype(str)\n",
        "df_time_series['year'] = df_time_series['year'].astype(str)\n",
        "df_time_series['date'] = df_time_series['day'] + '-' + df_time_series['month'] + '-' + df_time_series['year']\n",
        "df_time_series['date'] = pd.to_datetime(df_time_series['date'], format='%d-%b-%Y')\n",
        "df_time_series = df_time_series.set_index('date')\n",
        "daily_counts = df_time_series.groupby(df_time_series.index).size()\n",
        "display(daily_counts.head())"
      ],
      "execution_count": null,
      "outputs": []
    },
    {
      "cell_type": "markdown",
      "metadata": {
        "id": "338af69a"
      },
      "source": [
        "## Visualize time series\n",
        "\n",
        "### Subtask:\n",
        "Create a time series plot to visualize the frequency distribution over time.\n"
      ]
    },
    {
      "cell_type": "markdown",
      "metadata": {
        "id": "65fb9e2d"
      },
      "source": [
        "**Reasoning**:\n",
        "Create a time series plot of `daily_counts` using matplotlib, set the title and axis labels, and display the plot to visualize the frequency distribution over time.\n",
        "\n"
      ]
    },
    {
      "cell_type": "code",
      "metadata": {
        "id": "58e8a61a"
      },
      "source": [
        "plt.style.use('seaborn-v0_8-darkgrid') # Keep the darkgrid style\n",
        "fig, ax = plt.subplots(figsize=(16, 6)) # Increased width\n",
        "fig.patch.set_facecolor('black')  # Set figure background to black\n",
        "ax.set_facecolor('black') # Set axes background to black\n",
        "\n",
        "plt.plot(daily_counts, color='turquoise') # Set line color to turquoise\n",
        "plt.title(\"Frequency Distribution Over Time\", color='white') # Set title color to white\n",
        "plt.xlabel(\"Date\", color='white') # Set xlabel color to white\n",
        "plt.ylabel(\"Frequency\", color='white') # Set ylabel color to white\n",
        "plt.tick_params(axis='x', colors='white')  # Set x-axis tick color to white\n",
        "plt.tick_params(axis='y', colors='white')  # Set y-axis tick color to white\n",
        "\n",
        "plt.show()"
      ],
      "execution_count": null,
      "outputs": []
    },
    {
      "cell_type": "markdown",
      "metadata": {
        "id": "b84bad66"
      },
      "source": [
        "## Summary:\n",
        "\n",
        "### Data Analysis Key Findings\n",
        "\n",
        "*   A dummy year (2022) was used to create a datetime index as the original data was missing a 'year' column.\n",
        "*   The frequency of occurrences for each date was calculated and stored in the `daily_counts` Series.\n",
        "*   A time series plot visualizing the frequency distribution over time was generated.\n",
        "\n",
        "### Insights or Next Steps\n",
        "\n",
        "*   Investigate if the original data source contains year information to create a more accurate time series.\n"
      ]
    }
  ]
}